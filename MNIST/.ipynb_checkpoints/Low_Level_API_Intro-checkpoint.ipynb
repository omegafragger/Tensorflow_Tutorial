{
 "cells": [
  {
   "cell_type": "code",
   "execution_count": 32,
   "metadata": {},
   "outputs": [
    {
     "name": "stdout",
     "output_type": "stream",
     "text": [
      "Tensor(\"Const_10:0\", shape=(), dtype=float32)\n",
      "Tensor(\"Const_11:0\", shape=(), dtype=float32)\n",
      "Tensor(\"add_9:0\", shape=(), dtype=float32)\n"
     ]
    }
   ],
   "source": [
    "import tensorflow as tf\n",
    "import matplotlib.pyplot as plt\n",
    "\n",
    "\"\"\"Testing simple graph operations\"\"\"\n",
    "a = tf.constant(3.0, dtype = tf.float32)\n",
    "b = tf.constant(4.0)\n",
    "tot = a + b\n",
    "\n",
    "print (a)\n",
    "print (b)\n",
    "print (tot)"
   ]
  },
  {
   "cell_type": "code",
   "execution_count": 33,
   "metadata": {},
   "outputs": [],
   "source": [
    "# Code for visualizing the graph on Tensorboard\n",
    "\n",
    "writer = tf.summary.FileWriter('.')\n",
    "writer.add_graph(tf.get_default_graph())"
   ]
  },
  {
   "cell_type": "code",
   "execution_count": 34,
   "metadata": {},
   "outputs": [
    {
     "name": "stdout",
     "output_type": "stream",
     "text": [
      "7.0\n"
     ]
    }
   ],
   "source": [
    "# Code for executing a Session\n",
    "\n",
    "\"\"\"To evaluate tensors, instantiate a tf.Session object, informally known as a session.\n",
    "A session encapsulates the state of the TensorFlow runtime, and runs TensorFlow operations.\n",
    "If a tf.Graph is like a .py file, a tf.Session is like the python executable.\"\"\"\n",
    "\n",
    "session = tf.Session()\n",
    "x = session.run(tot)\n",
    "print (x)"
   ]
  },
  {
   "cell_type": "code",
   "execution_count": 35,
   "metadata": {},
   "outputs": [
    {
     "name": "stdout",
     "output_type": "stream",
     "text": [
      "{'ab': (3.0, 4.0), 'tot': 7.0}\n"
     ]
    }
   ],
   "source": [
    "y = session.run({'ab': (a,b), 'tot': tot})\n",
    "print (y)"
   ]
  },
  {
   "cell_type": "code",
   "execution_count": 36,
   "metadata": {},
   "outputs": [
    {
     "name": "stdout",
     "output_type": "stream",
     "text": [
      "[ 0.14996827  0.47008288  0.24100566]\n",
      "[ 0.73846471  0.97778654  0.00324762]\n",
      "{'out1': array([ 1.80929756,  1.44403911,  1.05619693], dtype=float32), 'out2': array([ 2.80929756,  2.44403911,  2.05619693], dtype=float32)}\n"
     ]
    }
   ],
   "source": [
    "# Example to show how in every call of tf.Session.run the graphs are re-evaluated\n",
    "vec = tf.random_uniform(shape=(3,))\n",
    "out1 = vec + 1\n",
    "out2 = vec + 2\n",
    "\n",
    "print (session.run(vec))\n",
    "print (session.run(vec))\n",
    "print (session.run({'out1': out1, 'out2': out2}))"
   ]
  },
  {
   "cell_type": "code",
   "execution_count": 37,
   "metadata": {},
   "outputs": [
    {
     "name": "stdout",
     "output_type": "stream",
     "text": [
      "[ 4.  6.]\n"
     ]
    }
   ],
   "source": [
    "# Example to show feeding where we parameterize a graph with values when it is evaluated during run()\n",
    "\n",
    "x = tf.placeholder(tf.float32)\n",
    "y = tf.placeholder(tf.float32)\n",
    "z = x + y\n",
    "print (session.run(z, feed_dict = {x: [1,2], y: [3,4]}))"
   ]
  },
  {
   "cell_type": "code",
   "execution_count": 38,
   "metadata": {},
   "outputs": [
    {
     "name": "stdout",
     "output_type": "stream",
     "text": [
      "[[3 4]\n",
      " [1 2]]\n",
      "[[ 7  8]\n",
      " [15 16]]\n",
      "[[19 20]\n",
      " [13 14]]\n",
      "[[17 18]\n",
      " [ 5  6]]\n",
      "[[11 12]\n",
      " [ 9 10]]\n"
     ]
    }
   ],
   "source": [
    "# Example to show the use of \"Datasets\" which is the standard way to stream in data into a TF model.\n",
    "\n",
    "# To get a runnable tf.Tensor from a Dataset you must first convert it to a tf.data.Iterator,\n",
    "# and then call the Iterator's get_next method.\n",
    "\n",
    "data = [[1,2], [3,4], [5,6], [7,8], [9,10], [11,12], [13,14], [15,16], [17,18], [19,20]]\n",
    "\n",
    "dataset = tf.data.Dataset.from_tensor_slices(data)\n",
    "dataset = dataset.shuffle(10).batch(2)\n",
    "\n",
    "#dataset = dataset.repeat() .. This goes on an infinite loop\n",
    "\n",
    "next_item = dataset.make_one_shot_iterator().get_next()\n",
    "\n",
    "while True:\n",
    "    try:\n",
    "        print (session.run(next_item))\n",
    "    except tf.errors.OutOfRangeError:\n",
    "        break"
   ]
  },
  {
   "cell_type": "code",
   "execution_count": 39,
   "metadata": {},
   "outputs": [
    {
     "name": "stdout",
     "output_type": "stream",
     "text": [
      "[[ -5.59118462]\n",
      " [-12.25484467]\n",
      " [-18.91850662]]\n"
     ]
    }
   ],
   "source": [
    "# Example to show the use of tf.layers\n",
    "# Layers help us incorporate trainable parameters into the model\n",
    "\n",
    "# Layers package together both the variables (feeding?) and the operations on them\n",
    "# Eg: A densely connected layer takes weighted sum across input and then applies an optional activation function\n",
    "\n",
    "# First we create a Dense layer with a batch of input vectors which produces a single output value\n",
    "\n",
    "x = tf.placeholder(tf.float32, shape=[None, 3])\n",
    "linear_model = tf.layers.Dense(units = 1)\n",
    "y = linear_model(x)\n",
    "\n",
    "# We have to initialize the layers before we run the calculation for y\n",
    "# Initialize all the variables in a graph using global_variables_initializer\n",
    "init = tf.global_variables_initializer()\n",
    "session.run(init)\n",
    "\n",
    "# Finally we output y\n",
    "print (session.run(y, feed_dict={x: [[1,2,3],[4,5,6],[7,8,9]]}))\n"
   ]
  },
  {
   "cell_type": "code",
   "execution_count": 40,
   "metadata": {},
   "outputs": [
    {
     "name": "stdout",
     "output_type": "stream",
     "text": [
      "[[  5.26606607]\n",
      " [ 11.80713272]]\n"
     ]
    }
   ],
   "source": [
    "# We can use shortcuts for the above code as well but that makes layer reuse impossible\n",
    "\n",
    "x = tf.placeholder(tf.float32, shape=[None, 3])\n",
    "y = tf.layers.dense(x, units = 1)\n",
    "\n",
    "init = tf.global_variables_initializer()\n",
    "session.run(init)\n",
    "\n",
    "print (session.run(y, feed_dict={x:[[1,2,3],[4,5,6]]}))"
   ]
  },
  {
   "cell_type": "code",
   "execution_count": 41,
   "metadata": {},
   "outputs": [
    {
     "name": "stdout",
     "output_type": "stream",
     "text": [
      "[[ -3.62056398  -0.18705493]\n",
      " [ -8.13344383  -1.05476487]\n",
      " [-12.64632416  -1.92247486]]\n"
     ]
    }
   ],
   "source": [
    "x = tf.placeholder(tf.float32, shape = [None, 3])\n",
    "linear_estimator = tf.layers.Dense(units = 2)\n",
    "y = linear_estimator(x)\n",
    "\n",
    "init = tf.global_variables_initializer()\n",
    "session.run(init)\n",
    "\n",
    "print (session.run(y, feed_dict = {x: [[1,2,3], [4,5,6], [7,8,9]]}))"
   ]
  },
  {
   "cell_type": "code",
   "execution_count": 42,
   "metadata": {},
   "outputs": [
    {
     "data": {
      "text/plain": [
       "(None, None)"
      ]
     },
     "execution_count": 42,
     "metadata": {},
     "output_type": "execute_result"
    }
   ],
   "source": [
    "# Code for experimenting with feature columns\n",
    "# Easiest way for dense columns = tf.feature_column.input_layer\n",
    "# However, this only takes dense columns as input. So for categorical features, we need to wrap it.\n",
    "# For categorical columns we wrap it into a tf.feature_column.indicator_column\n",
    "\n",
    "features = {\n",
    "    'sales' : [[5], [10], [8], [9]],\n",
    "    'department': ['sports', 'sports', 'gardening', 'gardening']}\n",
    "\n",
    "department_column = tf.feature_column.categorical_column_with_vocabulary_list(\n",
    "        'department', ['sports', 'gardening'])\n",
    "department_column = tf.feature_column.indicator_column(department_column)\n",
    "\n",
    "columns = [\n",
    "    tf.feature_column.numeric_column('sales'),\n",
    "    department_column\n",
    "]\n",
    "\n",
    "inputs = tf.feature_column.input_layer(features, columns)\n",
    "\n",
    "\n",
    "# Initializing the columns\n",
    "var_init = tf.global_variables_initializer()\n",
    "table_init = tf.tables_initializer()\n",
    "sess = tf.Session()\n",
    "sess.run((var_init, table_init))"
   ]
  },
  {
   "cell_type": "code",
   "execution_count": 46,
   "metadata": {},
   "outputs": [
    {
     "name": "stdout",
     "output_type": "stream",
     "text": [
      "[[ 0.19206905]\n",
      " [ 0.38413811]\n",
      " [ 0.57620716]\n",
      " [ 0.76827621]]\n",
      "5.69737\n",
      "5.69737\n",
      "4.03283\n",
      "2.87737\n",
      "2.07514\n",
      "1.51803\n",
      "1.13099\n",
      "0.861966\n",
      "0.674836\n",
      "0.544531\n",
      "0.45366\n",
      "0.390153\n",
      "0.345636\n",
      "0.314298\n",
      "0.292109\n",
      "0.276269\n",
      "0.264839\n",
      "0.25647\n",
      "0.250229\n",
      "0.245466\n",
      "0.241731\n",
      "0.238713\n",
      "0.236194\n",
      "0.234025\n",
      "0.2321\n",
      "0.230348\n",
      "0.228718\n",
      "0.227175\n",
      "0.225695\n",
      "0.224261\n",
      "0.222861\n",
      "0.221488\n",
      "0.220136\n",
      "0.2188\n",
      "0.217478\n",
      "0.216168\n",
      "0.214869\n",
      "0.21358\n",
      "0.2123\n",
      "0.211029\n",
      "0.209765\n",
      "0.20851\n",
      "0.207263\n",
      "0.206023\n",
      "0.204791\n",
      "0.203566\n",
      "0.202349\n",
      "0.201139\n",
      "0.199936\n",
      "0.198741\n",
      "0.197553\n",
      "0.196372\n",
      "0.195197\n",
      "0.19403\n",
      "0.19287\n",
      "0.191717\n",
      "0.190571\n",
      "0.189431\n",
      "0.188299\n",
      "0.187173\n",
      "0.186054\n",
      "0.184942\n",
      "0.183836\n",
      "0.182737\n",
      "0.181644\n",
      "0.180558\n",
      "0.179479\n",
      "0.178406\n",
      "0.177339\n",
      "0.176279\n",
      "0.175225\n",
      "0.174177\n",
      "0.173136\n",
      "0.172101\n",
      "0.171072\n",
      "0.170049\n",
      "0.169032\n",
      "0.168021\n",
      "0.167017\n",
      "0.166018\n",
      "0.165026\n",
      "0.164039\n",
      "0.163058\n",
      "0.162083\n",
      "0.161114\n",
      "0.160151\n",
      "0.159194\n",
      "0.158242\n",
      "0.157296\n",
      "0.156355\n",
      "0.15542\n",
      "0.154491\n",
      "0.153567\n",
      "0.152649\n",
      "0.151737\n",
      "0.150829\n",
      "0.149928\n",
      "0.149031\n",
      "0.14814\n",
      "0.147255\n",
      "0.146374\n"
     ]
    },
    {
     "data": {
      "image/png": "[encoded data removed]",
      "text/plain": [
       "<matplotlib.figure.Figure at 0x102518d0>"
      ]
     },
     "metadata": {},
     "output_type": "display_data"
    },
    {
     "name": "stdout",
     "output_type": "stream",
     "text": [
      "[[-0.61591297]\n",
      " [-1.2984519 ]\n",
      " [-1.98099089]\n",
      " [-2.66352987]]\n"
     ]
    }
   ],
   "source": [
    "# Finally, we'll use the concepts used above to train a tiny regression model\n",
    "\n",
    "\"\"\"Step 1: Defining the data\"\"\"\n",
    "x = tf.constant([[1],[2],[3],[4]], dtype = tf.float32)\n",
    "y_true = tf.constant([[0], [-1], [-2], [-3]], dtype=tf.float32)\n",
    "\n",
    "\"\"\"Step 2: Define a linear estimator\"\"\"\n",
    "linear_model = tf.layers.Dense(units = 1)\n",
    "y_pred = linear_model(x)\n",
    "\n",
    "\"\"\"Step 3: Just run the linear model on the input. This step does not involve any training\"\"\"\n",
    "sess = tf.Session()\n",
    "init = tf.global_variables_initializer()\n",
    "sess.run(init)\n",
    "\n",
    "print (sess.run(y_pred)) #These outputs are no good because they are untrained outputs\n",
    "\n",
    "\"\"\"Step 4: To train the model we will have to define a loss function.\"\"\"\n",
    "\n",
    "# We define the mean square loss tf.losses.mean_squared_error\n",
    "\n",
    "loss = tf.losses.mean_squared_error(labels=y_true, predictions=y_pred)\n",
    "print (sess.run(loss))\n",
    "\n",
    "\"\"\"Step 5: Finally we train the model using optimizers\"\"\"\n",
    "\n",
    "# Optimizers are implemented in Tensorflow as subclasses of tf.train.Optimizer class\n",
    "# Here we will use the tf.train.GradientDescentOptimizer\n",
    "optimizer = tf.train.GradientDescentOptimizer(0.01)\n",
    "train = optimizer.minimize(loss) # Probably contains just one step in the minimization process\n",
    "\n",
    "# Running the optimizer\n",
    "loss_red = []\n",
    "for i in range(100):\n",
    "    _, loss_value = sess.run((train, loss))\n",
    "    print (loss_value)\n",
    "    loss_red.append(loss_value)\n",
    "\n",
    "plt.plot(loss_red)\n",
    "plt.show()\n",
    "\n",
    "print (sess.run(y_pred))"
   ]
  },
  {
   "cell_type": "code",
   "execution_count": null,
   "metadata": {},
   "outputs": [],
   "source": []
  }
 ],
 "metadata": {
  "kernelspec": {
   "display_name": "Python 3",
   "language": "python",
   "name": "python3"
  },
  "language_info": {
   "codemirror_mode": {
    "name": "ipython",
    "version": 3
   },
   "file_extension": ".py",
   "mimetype": "text/x-python",
   "name": "python",
   "nbconvert_exporter": "python",
   "pygments_lexer": "ipython3",
   "version": "3.6.4"
  }
 },
 "nbformat": 4,
 "nbformat_minor": 2
}
