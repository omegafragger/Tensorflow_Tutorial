{
 "cells": [
  {
   "cell_type": "code",
   "execution_count": 8,
   "metadata": {},
   "outputs": [
    {
     "name": "stdout",
     "output_type": "stream",
     "text": [
      "Downloading data from http://download.tensorflow.org/data/iris_training.csv\n",
      "8192/2194 [================================================================================================================] - 0s\n",
      "Downloading data from http://download.tensorflow.org/data/iris_test.csv\n",
      "8192/573 [============================================================================================================================================================================================================================================================================================================================================================================================================================================] - 0s\n",
      "C:\\Users\\USER\\.keras\\datasets\\iris_training.csv  :  C:\\Users\\USER\\.keras\\datasets\\iris_test.csv\n"
     ]
    }
   ],
   "source": [
    "\"\"\"Tensorflow tutorial for predicting on the IRIS dataset\n",
    "Also contains general methods which will be useful for:\n",
    "\n",
    "* Downloading training and test sets given their URLs.\n",
    "* \"\"\"\n",
    "\n",
    "\n",
    "import pandas as pd\n",
    "import tensorflow as tf\n",
    "\n",
    "TRAIN_URL = \"http://download.tensorflow.org/data/iris_training.csv\"\n",
    "TEST_URL = \"http://download.tensorflow.org/data/iris_test.csv\"\n",
    "\n",
    "CSV_COLUMN_NAMES = ['SepalLength', 'SepalWidth',\n",
    "                    'PetalLength', 'PetalWidth', 'Species']\n",
    "SPECIES = ['Sentosa', 'Versicolor', 'Virginica']\n",
    "\n",
    "\n",
    "\n",
    "def download_if_not_in_cache(train_url, test_url, train_file_name, test_file_name):\n",
    "    \"\"\"Method to download a training and test set given their URLs.\n",
    "    * The method checks if the file already exists in the cache.\n",
    "    * If not it downloads and stores the file in the cache.\n",
    "    * Finally, it returns the path to the file which has been downloaded.\"\"\"\n",
    "    \n",
    "    train_file_path = tf.keras.utils.get_file(train_file_name, train_url)\n",
    "    test_file_path = tf.keras.utils.get_file(test_file_name, test_url)\n",
    "    \n",
    "    return train_file_path, test_file_path\n",
    "\n",
    "\n",
    "def load_data(train_url, test_url, train_file_name, test_file_name):\n",
    "    \n",
    "\n",
    "\n",
    "train_path, test_path = download_if_not_in_cache(TRAIN_URL, TEST_URL, TRAIN_URL.split('/')[-1], TEST_URL.split('/')[-1])\n",
    "print (train_path, ' : ', test_path)"
   ]
  },
  {
   "cell_type": "code",
   "execution_count": null,
   "metadata": {},
   "outputs": [],
   "source": []
  }
 ],
 "metadata": {
  "kernelspec": {
   "display_name": "Python 3",
   "language": "python",
   "name": "python3"
  },
  "language_info": {
   "codemirror_mode": {
    "name": "ipython",
    "version": 3
   },
   "file_extension": ".py",
   "mimetype": "text/x-python",
   "name": "python",
   "nbconvert_exporter": "python",
   "pygments_lexer": "ipython3",
   "version": "3.6.4"
  }
 },
 "nbformat": 4,
 "nbformat_minor": 2
}
